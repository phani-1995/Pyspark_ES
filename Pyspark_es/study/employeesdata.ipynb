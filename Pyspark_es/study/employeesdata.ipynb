{
 "cells": [
  {
   "cell_type": "code",
   "execution_count": 1,
   "metadata": {},
   "outputs": [
    {
     "name": "stdout",
     "output_type": "stream",
     "text": [
      "Collecting pyspark\n",
      "Collecting py4j==0.10.9 (from pyspark)\n",
      "  Using cached https://files.pythonhosted.org/packages/9e/b6/6a4fb90cd235dc8e265a6a2067f2a2c99f0d91787f06aca4bcf7c23f3f80/py4j-0.10.9-py2.py3-none-any.whl\n",
      "Installing collected packages: py4j, pyspark\n",
      "Successfully installed py4j-0.10.9 pyspark-3.0.1\n"
     ]
    }
   ],
   "source": [
    "!pip3 install pyspark"
   ]
  },
  {
   "cell_type": "code",
   "execution_count": 61,
   "metadata": {},
   "outputs": [
    {
     "name": "stdout",
     "output_type": "stream",
     "text": [
      "+------+-----------+----------+--------------+---------+------+--------------------+----------------+------------------+--------------------+-------------+-------------+-----------+--------------+---------------+------------------+---------------+---------------+----------------+---------------------+-----------+--------------+--------------+---------+----------------------+------+-----------+-----------+------------+-------------+--------------------+-------------+-----+-----+---------+-----------+---------------+\n",
      "|Emp ID|Name Prefix|First Name|Middle Initial|Last Name|Gender|              E Mail|   Father's Name|     Mother's Name|Mother's Maiden Name|Date of Birth|Time of Birth|Age in Yrs.|Weight in Kgs.|Date of Joining|Quarter of Joining|Half of Joining|Year of Joining|Month of Joining|Month Name of Joining|Short Month|Day of Joining|DOW of Joining|Short DOW|Age in Company (Years)|Salary|Last % Hike|        SSN|  Phone No. |   Place Name|              County|         City|State|  Zip|   Region|  User Name|       Password|\n",
      "+------+-----------+----------+--------------+---------+------+--------------------+----------------+------------------+--------------------+-------------+-------------+-----------+--------------+---------------+------------------+---------------+---------------+----------------+---------------------+-----------+--------------+--------------+---------+----------------------+------+-----------+-----------+------------+-------------+--------------------+-------------+-----+-----+---------+-----------+---------------+\n",
      "|742048|       Drs.|    Lizeth|             P|   Mccoll|     F|lizeth.mccoll@ibm...|   Renato Mccoll|     Serena Mccoll|             Broxton|     7/5/1973|  08:14:43 AM|      47.19|            49|       1/7/1995|                Q1|             H1|           1995|               1|              January|        Jan|             7|      Saturday|      Sat|                 25.67|147446|        14%|171-86-6830|216-703-2865|     Alliance|               Stark|     Alliance|   OH|44601|  Midwest|   lpmccoll|     b5CDsd1Mz.|\n",
      "|671135|        Ms.| Argentina|             O|     Hern|     F|argentina.hern@nt...|       Earl Hern|      Chrissy Hern|              Tapley|   10/15/1962|  02:08:22 AM|      57.92|            53|       4/1/1986|                Q2|             H1|           1986|               4|                April|        Apr|             1|       Tuesday|      Tue|                 34.44|129174|         8%|083-02-3078|202-572-0136|   Washington|District of Columbia|   Washington|   DC|20411|    South|     aohern| vsUv&nFc?lM|2-|\n",
      "|965851|        Mr.|    Damian|             N|  Patillo|     M|damian.patillo@ou...|  Harley Patillo|   Lucinda Patillo|               Etter|    3/11/1975|  07:48:45 PM|      45.51|            84|     12/16/2004|                Q4|             H2|           2004|              12|             December|        Dec|            16|      Thursday|      Thu|                 15.72|158746|         8%|326-11-9852|209-784-3915|       Burrel|              Fresno|       Burrel|   CA|93607|     West|  dnpatillo|   GQj^c:4#B:F8|\n",
      "|224660|       Drs.|   Imogene|             P| Hagopian|     F|imogene.hagopian@...| Delmar Hagopian| Carolina Hagopian|             Lockett|    2/19/1995|  03:15:09 PM|      25.55|            52|       6/8/2017|                Q2|             H1|           2017|               6|                 June|        Jun|             8|      Thursday|      Thu|                  3.23| 55761|        14%|656-36-0772|210-460-6327|        Bryan|              Brazos|        Bryan|   TX|77806|    South| iphagopian|     d[aHK7aiH&|\n",
      "|852694|        Mr.|    Walker|             E|  Wallach|     M|walker.wallach@ao...|    Gale Wallach|Georgianna Wallach|           Creekmore|     8/5/1992|  01:03:46 PM|      28.09|            50|      2/28/2020|                Q1|             H1|           2020|               2|             February|        Feb|            28|        Friday|      Fri|                  0.51|197519|        24%|296-15-3535|225-846-1969|     Newllano|              Vernon|     Newllano|   LA|71461|    South|  wewallach|       kM\\7h*}7|\n",
      "|144102|        Ms.|  Jesusita|             W|   Hollie|     F|jesusita.hollie@h...|  Clement Hollie|      Nilda Hollie|              Barone|   10/30/1987|  04:55:43 AM|      32.86|            49|       3/5/2015|                Q1|             H1|           2015|               3|                March|        Mar|             5|      Thursday|      Thu|                   5.5|103839|         6%|375-37-3861|209-219-5562|      Topanga|         Los Angeles|      Topanga|   CA|90290|     West|   jwhollie|       p1-G0\\b~|\n",
      "|687793|        Mr.|    Fausto|             P|  Esqueda|     M|fausto.esqueda@ao...|  Randal Esqueda|      Yang Esqueda|             Cullens|    4/23/1971|  10:25:52 AM|      49.39|            75|     10/29/1998|                Q4|             H2|           1998|              10|              October|        Oct|            29|      Thursday|      Thu|                 21.85| 60101|         5%|095-02-0857|216-722-2112|    Somerdale|          Tuscarawas|    Somerdale|   OH|44678|  Midwest|  fpesqueda| lX!iJCJF@[f-/F|\n",
      "|636308|       Mrs.|     Vanda|             S|    Komar|     F| vanda.komar@aol.com|     Carlo Komar|       Katia Komar|            Almanzar|     9/2/1962|  02:52:40 AM|      58.04|            52|      7/25/2018|                Q3|             H2|           2018|               7|                 July|        Jul|            25|     Wednesday|      Wed|                   2.1|115639|        26%|002-11-5408|216-224-9563|        Akron|              Summit|        Akron|   OH|44312|  Midwest|    vskomar|I0!gVO~XFHG0\\9q|\n",
      "|218660|       Mrs.|   Destiny|             A|Nicholson|     F|destiny.nicholson...| Ramon Nicholson|  Tanika Nicholson|             Schauer|     7/1/1995|  01:58:42 PM|      25.19|            54|     11/22/2016|                Q4|             H2|           2016|              11|             November|        Nov|            22|       Tuesday|      Tue|                  3.78|126048|        19%|386-37-5628|201-997-3957|Atlantic City|            Atlantic|Atlantic City|   NJ| 8401|Northeast|danicholson|       s|?t/%X+|\n",
      "|465691|        Ms.|      Evie|             V|    Hamby|     F|evie.hamby@gmail.com|     Devin Hamby|      Jerica Hamby|                Plum|    6/22/1980|  12:17:42 AM|      40.22|            60|      10/4/2013|                Q4|             H2|           2013|              10|              October|        Oct|             4|        Friday|      Fri|                  6.91|193757|        28%|682-24-5946|201-331-7085|     Rockaway|              Morris|     Rockaway|   NJ| 7866|Northeast|    evhamby|       Xv7!P;xf|\n",
      "|242339|        Dr.|   Carlton|             G|Friedrich|     M|carlton.friedrich...| Tommy Friedrich|   Ricki Friedrich|                Camp|    10/7/1993|  12:05:46 AM|      26.92|            64|      10/5/2016|                Q4|             H2|           2016|              10|              October|        Oct|             5|     Wednesday|      Wed|                  3.91| 43826|        14%|717-18-8892|216-458-6650|   Cincinnati|            Hamilton|   Cincinnati|   OH|45202|  Midwest|cgfriedrich|     ROEj:i88Ov|\n",
      "|636949|        Mr.|   Carmelo|             A|   Haynie|     M|carmelo.haynie@gm...|    Mason Haynie|     Dorian Haynie|            Blessing|    3/19/1988|  01:02:33 PM|      32.47|            83|      3/10/2015|                Q1|             H1|           2015|               3|                March|        Mar|            10|       Tuesday|      Tue|                  5.48| 84036|         2%|529-99-1135|231-719-8915|       Howell|          Livingston|       Howell|   MI|48844|  Midwest|   cahaynie|     R^[haXId3H|\n",
      "|890565|        Ms.|      Bari|             K|   Troche|     F|bari.troche@hotma...|   Wilson Troche|    Madison Troche|              Imhoff|    6/12/1961|  12:10:42 PM|      59.26|            40|       6/6/2006|                Q2|             H1|           2006|               6|                 June|        Jun|             6|       Tuesday|      Tue|                 14.25|182148|        30%|479-41-7839|505-741-3868| Cochiti Lake|            Sandoval| Cochiti Lake|   NM|87083|     West|   bktroche|F}BQulqy[P@<Y8q|\n",
      "|206270|        Mr.|    Burton|             B|    Lowry|     M|burton.lowry@comc...|      Oren Lowry|      Fredda Lowry|             Goodwyn|    9/18/1987|  10:33:51 PM|      32.98|            50|     10/29/2011|                Q4|             H2|           2011|              10|              October|        Oct|            29|      Saturday|      Sat|                  8.85|181592|        26%|618-87-1917|215-747-2870|    Palmerton|              Carbon|    Palmerton|   PA|18071|Northeast|    bblowry|  k;B:j!?CkWb**|\n",
      "|418390|      Prof.|    Mickey|             Z|  Bassham|     M|mickey.bassham@gm...|    Deon Bassham|       Lan Bassham|             Buttler|    9/29/1997|  11:32:24 AM|      22.94|            57|     12/19/2019|                Q4|             H2|           2019|              12|             December|        Dec|            19|      Thursday|      Thu|                   0.7|131922|        23%|186-86-7205|231-987-8818|   Lake Orion|             Oakland|   Lake Orion|   MI|48362|  Midwest|  mzbassham|BVT4u}~8f{;xl15|\n",
      "|359884|        Ms.|      Ying|             Y|  Cerrone|     F|ying.cerrone@aol.com|Benedict Cerrone|   Jeanett Cerrone|                Line|    3/19/1980|  08:03:52 AM|      40.48|            53|      5/17/2012|                Q2|             H1|           2012|               5|                  May|        May|            17|      Thursday|      Thu|                   8.3|184946|         1%|083-02-7174|218-498-8798|         Iona|              Murray|         Iona|   MN|56141|  Midwest|  yycerrone|       Lx8ii-9U|\n",
      "|301840|       Mrs.|     Bette|             O|    Copas|     F|bette.copas@sbcgl...|    Rupert Copas|       Bette Copas|              Gerner|   11/12/1962|  07:20:25 AM|      57.84|            55|      2/26/2000|                Q1|             H1|           2000|               2|             February|        Feb|            26|      Saturday|      Sat|                 20.53|103833|        27%|124-98-3183|307-986-9240|    Hillsdale|             Laramie|    Hillsdale|   WY|82060|     West|    bocopas|   Fz-z~VtH9dfo|\n",
      "|232212|       Mrs.|      Tien|             W|   Harkey|     F| tien.harkey@cox.net|    Robin Harkey|   Carlotta Harkey|                Blas|     9/4/1998|  12:31:09 AM|      22.01|            52|      5/26/2020|                Q2|             H1|           2020|               5|                  May|        May|            26|       Tuesday|      Tue|                  0.27|103292|        10%|615-87-8886|209-433-3579|       Fresno|              Fresno|       Fresno|   CA|93782|     West|   twharkey| c/jI.a^K|[$}o#|\n",
      "|450156|        Ms.|      Loma|             S|  Chesney|     F|loma.chesney@yaho...|    Bret Chesney|     Viola Chesney|            Barnhill|    5/25/1963|  05:20:17 PM|      57.31|            50|     11/14/1989|                Q4|             H2|           1989|              11|             November|        Nov|            14|       Tuesday|      Tue|                 30.82| 66545|         7%|161-86-9824|205-930-2406|       Mobile|              Mobile|       Mobile|   AL|36602|    South|  lschesney|8U+<JTEXx&Q]R\\S|\n",
      "|158031|        Mr.|     Ruben|             K|   Pastor|     M|ruben.pastor@gmai...|Filiberto Pastor|       Dona Pastor|             Audette|   11/16/1993|  03:28:49 PM|      26.81|            83|     11/20/2016|                Q4|             H2|           2016|              11|             November|        Nov|            20|        Sunday|      Sun|                  3.78| 41892|         1%|768-02-9782|262-438-6125|    Cedarburg|             Ozaukee|    Cedarburg|   WI|53012|  Midwest|   rkpastor|      rk6{Wd|t%|\n",
      "+------+-----------+----------+--------------+---------+------+--------------------+----------------+------------------+--------------------+-------------+-------------+-----------+--------------+---------------+------------------+---------------+---------------+----------------+---------------------+-----------+--------------+--------------+---------+----------------------+------+-----------+-----------+------------+-------------+--------------------+-------------+-----+-----+---------+-----------+---------------+\n",
      "only showing top 20 rows\n",
      "\n",
      "None\n"
     ]
    }
   ],
   "source": [
    "from pyspark.sql import SparkSession\n",
    "import os\n",
    "\n",
    "# set environment variable PYSPARK_SUBMIT_ARGS\n",
    "os.environ['PYSPARK_SUBMIT_ARGS'] = '--jars /home/phani/Desktop/elasticsearch-hadoop-7.9.2/dist/elasticsearch-hadoop-7.9.2.jar pyspark-shell'\n",
    "\n",
    "spark = SparkSession \\\n",
    "    .builder \\\n",
    "    .getOrCreate()\n",
    "sc = spark.sparkContext\n",
    "df = spark.read.csv(\"employee.csv\", header=True)\n",
    "print(df.show())"
   ]
  },
  {
   "cell_type": "code",
   "execution_count": null,
   "metadata": {},
   "outputs": [],
   "source": [
    "df.select('Date of Joining')"
   ]
  },
  {
   "cell_type": "code",
   "execution_count": 64,
   "metadata": {},
   "outputs": [
    {
     "data": {
      "text/plain": [
       "DataFrame[Emp ID: string, Name Prefix: string, First Name: string, Middle Initial: string, Last Name: string, Gender: string, E Mail: string, Father's Name: string, Mother's Name: string, Mother's Maiden Name: string, Date of Birth: string, Time of Birth: string, Age in Yrs.: string, Weight in Kgs.: string, Date of Joining: string, Quarter of Joining: string, Half of Joining: string, Year of Joining: string, Month of Joining: string, Month Name of Joining: string, Short Month: string, Day of Joining: string, DOW of Joining: string, Short DOW: string, Age in Company (Years): string, Salary: string, Last % Hike: string, SSN: string, Phone No. : string, Place Name: string, County: string, City: string, State: string, Zip: string, Region: string, User Name: string, Password: string]"
      ]
     },
     "metadata": {},
     "output_type": "display_data"
    }
   ],
   "source": [
    "df = df.fillna(0)\n",
    "display(df)"
   ]
  },
  {
   "cell_type": "code",
   "execution_count": 65,
   "metadata": {},
   "outputs": [
    {
     "data": {
      "text/plain": [
       "[('Emp ID', 'string'),\n",
       " ('Name Prefix', 'string'),\n",
       " ('First Name', 'string'),\n",
       " ('Middle Initial', 'string'),\n",
       " ('Last Name', 'string'),\n",
       " ('Gender', 'string'),\n",
       " ('E Mail', 'string'),\n",
       " (\"Father's Name\", 'string'),\n",
       " (\"Mother's Name\", 'string'),\n",
       " (\"Mother's Maiden Name\", 'string'),\n",
       " ('Date of Birth', 'string'),\n",
       " ('Time of Birth', 'string'),\n",
       " ('Age in Yrs.', 'string'),\n",
       " ('Weight in Kgs.', 'string'),\n",
       " ('Date of Joining', 'string'),\n",
       " ('Quarter of Joining', 'string'),\n",
       " ('Half of Joining', 'string'),\n",
       " ('Year of Joining', 'string'),\n",
       " ('Month of Joining', 'string'),\n",
       " ('Month Name of Joining', 'string'),\n",
       " ('Short Month', 'string'),\n",
       " ('Day of Joining', 'string'),\n",
       " ('DOW of Joining', 'string'),\n",
       " ('Short DOW', 'string'),\n",
       " ('Age in Company (Years)', 'string'),\n",
       " ('Salary', 'string'),\n",
       " ('Last % Hike', 'string'),\n",
       " ('SSN', 'string'),\n",
       " ('Phone No. ', 'string'),\n",
       " ('Place Name', 'string'),\n",
       " ('County', 'string'),\n",
       " ('City', 'string'),\n",
       " ('State', 'string'),\n",
       " ('Zip', 'string'),\n",
       " ('Region', 'string'),\n",
       " ('User Name', 'string'),\n",
       " ('Password', 'string')]"
      ]
     },
     "execution_count": 65,
     "metadata": {},
     "output_type": "execute_result"
    }
   ],
   "source": [
    "df.dtypes"
   ]
  },
  {
   "cell_type": "code",
   "execution_count": 66,
   "metadata": {},
   "outputs": [
    {
     "name": "stdout",
     "output_type": "stream",
     "text": [
      "+------+----------+--------------+------+--------------------+------+--------------------+-------------+-----+---------+----+\n",
      "|Emp ID|First Name|Middle Initial|Gender|              E Mail|Salary|              County|         City|State|   Region|Hike|\n",
      "+------+----------+--------------+------+--------------------+------+--------------------+-------------+-----+---------+----+\n",
      "|742048|    Lizeth|             P|     F|lizeth.mccoll@ibm...|147446|               Stark|     Alliance|   OH|  Midwest|  14|\n",
      "|671135| Argentina|             O|     F|argentina.hern@nt...|129174|District of Columbia|   Washington|   DC|    South|   8|\n",
      "|965851|    Damian|             N|     M|damian.patillo@ou...|158746|              Fresno|       Burrel|   CA|     West|   8|\n",
      "|224660|   Imogene|             P|     F|imogene.hagopian@...| 55761|              Brazos|        Bryan|   TX|    South|  14|\n",
      "|852694|    Walker|             E|     M|walker.wallach@ao...|197519|              Vernon|     Newllano|   LA|    South|  24|\n",
      "|144102|  Jesusita|             W|     F|jesusita.hollie@h...|103839|         Los Angeles|      Topanga|   CA|     West|   6|\n",
      "|687793|    Fausto|             P|     M|fausto.esqueda@ao...| 60101|          Tuscarawas|    Somerdale|   OH|  Midwest|   5|\n",
      "|636308|     Vanda|             S|     F| vanda.komar@aol.com|115639|              Summit|        Akron|   OH|  Midwest|  26|\n",
      "|218660|   Destiny|             A|     F|destiny.nicholson...|126048|            Atlantic|Atlantic City|   NJ|Northeast|  19|\n",
      "|465691|      Evie|             V|     F|evie.hamby@gmail.com|193757|              Morris|     Rockaway|   NJ|Northeast|  28|\n",
      "|242339|   Carlton|             G|     M|carlton.friedrich...| 43826|            Hamilton|   Cincinnati|   OH|  Midwest|  14|\n",
      "|636949|   Carmelo|             A|     M|carmelo.haynie@gm...| 84036|          Livingston|       Howell|   MI|  Midwest|   2|\n",
      "|890565|      Bari|             K|     F|bari.troche@hotma...|182148|            Sandoval| Cochiti Lake|   NM|     West|  30|\n",
      "|206270|    Burton|             B|     M|burton.lowry@comc...|181592|              Carbon|    Palmerton|   PA|Northeast|  26|\n",
      "|418390|    Mickey|             Z|     M|mickey.bassham@gm...|131922|             Oakland|   Lake Orion|   MI|  Midwest|  23|\n",
      "|359884|      Ying|             Y|     F|ying.cerrone@aol.com|184946|              Murray|         Iona|   MN|  Midwest|   1|\n",
      "|301840|     Bette|             O|     F|bette.copas@sbcgl...|103833|             Laramie|    Hillsdale|   WY|     West|  27|\n",
      "|232212|      Tien|             W|     F| tien.harkey@cox.net|103292|              Fresno|       Fresno|   CA|     West|  10|\n",
      "|450156|      Loma|             S|     F|loma.chesney@yaho...| 66545|              Mobile|       Mobile|   AL|    South|   7|\n",
      "|158031|     Ruben|             K|     M|ruben.pastor@gmai...| 41892|             Ozaukee|    Cedarburg|   WI|  Midwest|   1|\n",
      "+------+----------+--------------+------+--------------------+------+--------------------+-------------+-----+---------+----+\n",
      "only showing top 20 rows\n",
      "\n"
     ]
    }
   ],
   "source": [
    "df1 =  df.select('Emp ID', 'First Name', 'Middle Initial', 'Gender', 'E Mail', 'Salary', 'County', 'City', 'State', 'Region', regexp_replace(col(\"Last % Hike\"), \"%\", \"\").alias(\"Hike\"))\n",
    "df1.show()"
   ]
  },
  {
   "cell_type": "code",
   "execution_count": 67,
   "metadata": {},
   "outputs": [],
   "source": [
    "#df1.select(\"Last % Hike\", regexp_replace(col(\"Last % Hike\"), \"%\", \"\").alias(\"Hike\")).show()"
   ]
  },
  {
   "cell_type": "code",
   "execution_count": 68,
   "metadata": {},
   "outputs": [
    {
     "name": "stdout",
     "output_type": "stream",
     "text": [
      "root\n",
      " |-- Emp ID: string (nullable = true)\n",
      " |-- First Name: string (nullable = true)\n",
      " |-- Middle Initial: string (nullable = true)\n",
      " |-- Gender: string (nullable = true)\n",
      " |-- E Mail: string (nullable = true)\n",
      " |-- Salary: string (nullable = true)\n",
      " |-- County: string (nullable = true)\n",
      " |-- City: string (nullable = true)\n",
      " |-- State: string (nullable = true)\n",
      " |-- Region: string (nullable = true)\n",
      " |-- Hike: string (nullable = true)\n",
      "\n"
     ]
    }
   ],
   "source": [
    "df1.printSchema()"
   ]
  },
  {
   "cell_type": "code",
   "execution_count": 71,
   "metadata": {},
   "outputs": [],
   "source": [
    "df1 = df1.withColumn(\"Salary\",df1[\"Salary\"].cast('int'))\n",
    "df1 = df1.withColumn(\"Hike\",df1[\"Hike\"].cast('int'))"
   ]
  },
  {
   "cell_type": "code",
   "execution_count": 72,
   "metadata": {},
   "outputs": [
    {
     "name": "stdout",
     "output_type": "stream",
     "text": [
      "root\n",
      " |-- Emp ID: string (nullable = true)\n",
      " |-- First Name: string (nullable = true)\n",
      " |-- Middle Initial: string (nullable = true)\n",
      " |-- Gender: string (nullable = true)\n",
      " |-- E Mail: string (nullable = true)\n",
      " |-- Salary: integer (nullable = true)\n",
      " |-- County: string (nullable = true)\n",
      " |-- City: string (nullable = true)\n",
      " |-- State: string (nullable = true)\n",
      " |-- Region: string (nullable = true)\n",
      " |-- Hike: integer (nullable = true)\n",
      "\n"
     ]
    }
   ],
   "source": [
    "df1.printSchema()"
   ]
  },
  {
   "cell_type": "markdown",
   "metadata": {},
   "source": [
    "#  Count number of employees in each Region, country, city"
   ]
  },
  {
   "cell_type": "code",
   "execution_count": 73,
   "metadata": {},
   "outputs": [
    {
     "name": "stdout",
     "output_type": "stream",
     "text": [
      "+---------+\n",
      "|   Region|\n",
      "+---------+\n",
      "|  Midwest|\n",
      "|    South|\n",
      "|     West|\n",
      "|Northeast|\n",
      "+---------+\n",
      "\n"
     ]
    }
   ],
   "source": [
    "df1.select(\"Region\").distinct().show()"
   ]
  },
  {
   "cell_type": "markdown",
   "metadata": {},
   "source": [
    "### number of employees based on Region "
   ]
  },
  {
   "cell_type": "code",
   "execution_count": 74,
   "metadata": {},
   "outputs": [
    {
     "name": "stdout",
     "output_type": "stream",
     "text": [
      "+---------+-------+\n",
      "|   Region|  count|\n",
      "+---------+-------+\n",
      "|  Midwest|1372439|\n",
      "|    South|1855656|\n",
      "|     West| 884921|\n",
      "|Northeast| 886984|\n",
      "+---------+-------+\n",
      "\n"
     ]
    }
   ],
   "source": [
    "df1.groupBy('Region').count().show()"
   ]
  },
  {
   "cell_type": "markdown",
   "metadata": {},
   "source": [
    "### Number of employees based on Country"
   ]
  },
  {
   "cell_type": "code",
   "execution_count": 75,
   "metadata": {},
   "outputs": [
    {
     "name": "stdout",
     "output_type": "stream",
     "text": [
      "+--------------------+-----+\n",
      "|              County|count|\n",
      "+--------------------+-----+\n",
      "|               Bucks| 7697|\n",
      "|            Thurston| 2875|\n",
      "|             Palermo|  155|\n",
      "|           Worcester|13022|\n",
      "|              Grimes|  872|\n",
      "|               Tyler| 1740|\n",
      "|             Hanover| 1347|\n",
      "|                Utah| 2777|\n",
      "|      East Feliciana|  688|\n",
      "|              Aitkin|  918|\n",
      "|        Saint George|  109|\n",
      "|Skagway-Hoonah-An...|  995|\n",
      "|            Bluffton|  113|\n",
      "|           Petroleum|  258|\n",
      "|          Prattville|  118|\n",
      "|          Charleston| 4334|\n",
      "|               Izard| 1707|\n",
      "|              Hawaii| 3775|\n",
      "|               Pasco| 3564|\n",
      "|            Montcalm| 2052|\n",
      "+--------------------+-----+\n",
      "only showing top 20 rows\n",
      "\n"
     ]
    }
   ],
   "source": [
    "df1.groupBy('County').count().show()"
   ]
  },
  {
   "cell_type": "markdown",
   "metadata": {},
   "source": [
    "### Number of employees based on city"
   ]
  },
  {
   "cell_type": "code",
   "execution_count": 76,
   "metadata": {},
   "outputs": [
    {
     "name": "stdout",
     "output_type": "stream",
     "text": [
      "+-----------------+-----+\n",
      "|             City|count|\n",
      "+-----------------+-----+\n",
      "|          Hanover| 2314|\n",
      "|          Palermo|  466|\n",
      "|        Fairbanks| 1296|\n",
      "|        Worcester| 2181|\n",
      "|Kingsford Heights|  131|\n",
      "|     Plaucheville|  157|\n",
      "|         Bluffton|  820|\n",
      "|           Grimes|  254|\n",
      "|    Harrison City|  122|\n",
      "|      Piney Creek|  110|\n",
      "|   Camp H M Smith|  131|\n",
      "|       Prattville|  487|\n",
      "|      Santa Paula|  220|\n",
      "|            Kiana|  112|\n",
      "|         Cheriton|  138|\n",
      "|         Fredonia|  920|\n",
      "|            Tyler| 1999|\n",
      "|         Thurston|  352|\n",
      "|          Jemison|  104|\n",
      "|       Sugar City|  228|\n",
      "+-----------------+-----+\n",
      "only showing top 20 rows\n",
      "\n"
     ]
    }
   ],
   "source": [
    "df1.groupBy('City').count().show()"
   ]
  },
  {
   "cell_type": "markdown",
   "metadata": {},
   "source": [
    "# orderby gender and salary"
   ]
  },
  {
   "cell_type": "code",
   "execution_count": 77,
   "metadata": {},
   "outputs": [
    {
     "name": "stdout",
     "output_type": "stream",
     "text": [
      "+------+----------+--------------+------+--------------------+------+------------+------------------+-----+---------+----+\n",
      "|Emp ID|First Name|Middle Initial|Gender|              E Mail|Salary|      County|              City|State|   Region|Hike|\n",
      "+------+----------+--------------+------+--------------------+------+------------+------------------+-----+---------+----+\n",
      "|418550|  Vivienne|             Z|     F|vivienne.adair@sb...|198240|   Jefferson|        Louisville|   KY|    South|  17|\n",
      "|663429|    Tambra|             S|     F|tambra.knutson@mi...|145873|    Mackinac|   Mackinac Island|   MI|  Midwest|   1|\n",
      "|675785|    Nguyet|             H|     F|nguyet.mraz@yahoo...| 47744| Mecklenburg|         Charlotte|   NC|    South|  10|\n",
      "|281267|     Treva|             L|     F|treva.hitz@hotmai...| 85286|        Erie|           Buffalo|   NY|Northeast|   7|\n",
      "|300443|     Kathi|             V|     F|  kathi.teal@aol.com|155262|   St. Clair|              Yale|   MI|  Midwest|  26|\n",
      "|158748| Steffanie|             X|     F|steffanie.foerste...|155889|     Chilton|           Jemison|   AL|    South|   5|\n",
      "|228931|    Vickie|             N|     F|vickie.dalzell@ea...|103405|  St. Mary's|          Bushwood|   MD|    South|  27|\n",
      "|865045|Marylouise|             U|     F|marylouise.larabe...|143765|        Wood|     Milton Center|   OH|  Midwest|  23|\n",
      "|964948|     Ashli|             V|     F|ashli.franks@gmai...|131669|   Champaign|    Christiansburg|   OH|  Midwest|   1|\n",
      "|983905|    Hollie|             A|     F|hollie.lerner@hot...| 89339|       Grant|           Swayzee|   IN|  Midwest|   5|\n",
      "|961615|  Michelle|             X|     F|michelle.hoops@gm...|169351|Contra Costa|      Walnut Creek|   CA|     West|  26|\n",
      "|542678|    Meggan|             C|     F|meggan.coon@gmail...|170974|      Macomb|Saint Clair Shores|   MI|  Midwest|   6|\n",
      "|956759|   Carmina|             E|     F|carmina.myhre@exx...|145586|  Gloucester|       Mount Royal|   NJ|Northeast|   7|\n",
      "|337658|     Maude|             B|     F|maude.davis@gmail...| 90905| Los Angeles|       Los Angeles|   CA|     West|   7|\n",
      "|470518|   Nicolle|             T|     F|nicolle.mcroy@hot...|114156|    Maricopa|           Phoenix|   AZ|     West|  15|\n",
      "|149930|     Kiley|             T|     F|kiley.foos@bellso...|146607|    Jennings|    Paris Crossing|   IN|  Midwest|  14|\n",
      "|752008|      Zola|             A|     F|zola.bowlby@hotma...|180528|    Hennepin|       Minneapolis|   MN|  Midwest|  22|\n",
      "|759513|   Natalie|             F|     F|natalie.dominy@sb...|193285|        Boyd|              Rush|   KY|    South|   9|\n",
      "|189833|    Joetta|             O|     F|joetta.everly@red...|163438|     Calhoun|      Golden Eagle|   IL|  Midwest|  16|\n",
      "|742927|     Karly|             N|     F|karly.shumpert@gm...| 54010|   Fairfield|         Greenwich|   CT|Northeast|  16|\n",
      "+------+----------+--------------+------+--------------------+------+------------+------------------+-----+---------+----+\n",
      "only showing top 20 rows\n",
      "\n"
     ]
    }
   ],
   "source": [
    "gender = df1.orderBy(df1.Gender)\n",
    "gender.show()"
   ]
  },
  {
   "cell_type": "code",
   "execution_count": 78,
   "metadata": {},
   "outputs": [
    {
     "name": "stdout",
     "output_type": "stream",
     "text": [
      "Total no of male employees\n"
     ]
    },
    {
     "data": {
      "text/plain": [
       "2498868"
      ]
     },
     "execution_count": 78,
     "metadata": {},
     "output_type": "execute_result"
    }
   ],
   "source": [
    "print(\"Total no of male employees\")\n",
    "gender.filter(gender.Gender == 'M').count()"
   ]
  },
  {
   "cell_type": "code",
   "execution_count": 79,
   "metadata": {},
   "outputs": [
    {
     "name": "stdout",
     "output_type": "stream",
     "text": [
      "Total no of Female employees\n"
     ]
    },
    {
     "data": {
      "text/plain": [
       "2501132"
      ]
     },
     "execution_count": 79,
     "metadata": {},
     "output_type": "execute_result"
    }
   ],
   "source": [
    "print(\"Total no of Female employees\")\n",
    "gender.filter(gender.Gender == 'F').count()"
   ]
  },
  {
   "cell_type": "markdown",
   "metadata": {},
   "source": [
    "## Order by salary and gender"
   ]
  },
  {
   "cell_type": "code",
   "execution_count": 80,
   "metadata": {},
   "outputs": [
    {
     "name": "stdout",
     "output_type": "stream",
     "text": [
      "+------+----------+--------------+------+--------------------+------+----------+-------------+-----+---------+----+\n",
      "|Emp ID|First Name|Middle Initial|Gender|              E Mail|Salary|    County|         City|State|   Region|Hike|\n",
      "+------+----------+--------------+------+--------------------+------+----------+-------------+-----+---------+----+\n",
      "|616703|      Amee|             J|     F|amee.gagliano@yah...| 40000|    Dallas|       Dallas|   TX|    South|  14|\n",
      "|813535|  Lorraine|             Z|     F|lorraine.latorre@...| 40000|  Converse|     Glenrock|   WY|     West|  21|\n",
      "|741049|      Kari|             C|     F|kari.osman@yahoo.com| 40000|     Mingo|      Justice|   WV|    South|  29|\n",
      "|676813|    Nannie|             Q|     F|nannie.sansom@gma...| 40000|    Bergen|       Mahwah|   NJ|Northeast|  12|\n",
      "|828071| Madelaine|             U|     F|madelaine.barrett...| 40000|     Aiken|        Aiken|   SC|    South|  26|\n",
      "|479980|     Chong|             A|     F|chong.manthey@yah...| 40000|   Jackson|       Walden|   CO|     West|   5|\n",
      "|892307| Elizabeth|             G|     F|elizabeth.lorenz@...| 40000|   Forsyth|   Rural Hall|   NC|    South|  12|\n",
      "|272737|    Anette|             U|     F|anette.vandeusen@...| 40000|   Johnson|     Van Lear|   KY|    South|  11|\n",
      "|654026|  Agripina|             K|     F|agripina.leclair@...| 40000|     Dodge|   Plainfield|   GA|    South|   0|\n",
      "|117353|    Vonnie|             K|     F|vonnie.vallejos@y...| 40000|    Potter|     Amarillo|   TX|    South|   9|\n",
      "|571129|  Lakiesha|             X|     F|lakiesha.nolting@...| 40000|   Larimer|   Glen Haven|   CO|     West|  21|\n",
      "|374296|     Clyde|             H|     F|clyde.owen@gmail.com| 40000|   Shawano|     Tigerton|   WI|  Midwest|  14|\n",
      "|506893|    Ariana|             L|     F|ariana.cumberbatc...| 40000|Evangeline| Saint Landry|   LA|    South|   4|\n",
      "|832197|     Vikki|             A|     F|vikki.grosso@hotm...| 40000|   McHenry|       Bantry|   ND|  Midwest|  14|\n",
      "|314186|   Kathlyn|             A|     F|kathlyn.deleon@ms...| 40000|      Lyon|      Emporia|   KS|  Midwest|  16|\n",
      "|227163|     Inger|             I|     F| inger.linke@ibm.com| 40000|   Windsor|    Gaysville|   VT|Northeast|  18|\n",
      "|631239|   Tijuana|             E|     F|tijuana.ellman@ho...| 40000|      Hoke|      Raeford|   NC|    South|  19|\n",
      "|227163|       Yun|             I|     F| yun.sorrels@ibm.com| 40000|  Sedgwick|      Bentley|   KS|  Midwest|  18|\n",
      "|368011|        Le|             X|     F| le.gracey@gmail.com| 40001|  Hennepin|  Maple Plain|   MN|  Midwest|  14|\n",
      "|239539|Christiana|             Y|     F|christiana.rosari...| 40001|    Orange|Mountainville|   NY|Northeast|  12|\n",
      "+------+----------+--------------+------+--------------------+------+----------+-------------+-----+---------+----+\n",
      "only showing top 20 rows\n",
      "\n"
     ]
    }
   ],
   "source": [
    "df1.orderBy(df1.Gender, df1.Salary).show()"
   ]
  },
  {
   "cell_type": "markdown",
   "metadata": {},
   "source": [
    "##  Salary wise sort employee data\n"
   ]
  },
  {
   "cell_type": "code",
   "execution_count": 81,
   "metadata": {},
   "outputs": [
    {
     "name": "stdout",
     "output_type": "stream",
     "text": [
      "+------+------+-----------+\n",
      "|Emp ID|Salary|County     |\n",
      "+------+------+-----------+\n",
      "|479980|40000 |Jackson    |\n",
      "|525554|40000 |Rock       |\n",
      "|272737|40000 |Johnson    |\n",
      "|502767|40000 |St. Joseph |\n",
      "|227163|40000 |Windsor    |\n",
      "|832197|40000 |McHenry    |\n",
      "|200251|40000 |Winnebago  |\n",
      "|374296|40000 |Shawano    |\n",
      "|828071|40000 |Aiken      |\n",
      "|631239|40000 |Graham     |\n",
      "|314186|40000 |Lyon       |\n",
      "|336973|40000 |Ouachita   |\n",
      "|117353|40000 |Potter     |\n",
      "|140140|40000 |Routt      |\n",
      "|571129|40000 |Larimer    |\n",
      "|680938|40000 |Somerset   |\n",
      "|631239|40000 |Hoke       |\n",
      "|511018|40000 |Franklin   |\n",
      "|964794|40000 |Westchester|\n",
      "|506893|40000 |Evangeline |\n",
      "+------+------+-----------+\n",
      "only showing top 20 rows\n",
      "\n"
     ]
    }
   ],
   "source": [
    "df1.sort(\"Salary\").select('Emp ID', 'Salary', 'County').show()"
   ]
  },
  {
   "cell_type": "code",
   "execution_count": 82,
   "metadata": {},
   "outputs": [
    {
     "name": "stdout",
     "output_type": "stream",
     "text": [
      "Average salary of a employee is \n",
      "+--------------+\n",
      "|   avg(Salary)|\n",
      "+--------------+\n",
      "|119992.4947336|\n",
      "+--------------+\n",
      "\n"
     ]
    }
   ],
   "source": [
    "print(\"Average salary of a employee is \")\n",
    "df1.agg({'Salary': 'avg'}).show()"
   ]
  },
  {
   "cell_type": "code",
   "execution_count": 83,
   "metadata": {},
   "outputs": [
    {
     "name": "stdout",
     "output_type": "stream",
     "text": [
      "Maximum salary of a employee is \n",
      "+-----------+\n",
      "|max(Salary)|\n",
      "+-----------+\n",
      "|     200000|\n",
      "+-----------+\n",
      "\n"
     ]
    }
   ],
   "source": [
    "print(\"Maximum salary of a employee is \")\n",
    "df1.agg({'Salary': 'max'}).show()"
   ]
  },
  {
   "cell_type": "code",
   "execution_count": 84,
   "metadata": {},
   "outputs": [
    {
     "name": "stdout",
     "output_type": "stream",
     "text": [
      "Minimum salary of a employee is \n",
      "+-----------+\n",
      "|min(Salary)|\n",
      "+-----------+\n",
      "|      40000|\n",
      "+-----------+\n",
      "\n"
     ]
    }
   ],
   "source": [
    "print(\"Minimum salary of a employee is \")\n",
    "df1.agg({'Salary': 'min'}).show()"
   ]
  },
  {
   "cell_type": "markdown",
   "metadata": {},
   "source": [
    "## Employee Summary table "
   ]
  },
  {
   "cell_type": "code",
   "execution_count": 87,
   "metadata": {},
   "outputs": [
    {
     "name": "stdout",
     "output_type": "stream",
     "text": [
      "+------+------+----+---------+\n",
      "|Emp ID|Salary|Hike|   Region|\n",
      "+------+------+----+---------+\n",
      "|742048|147446|  14|  Midwest|\n",
      "|671135|129174|   8|    South|\n",
      "|965851|158746|   8|     West|\n",
      "|224660| 55761|  14|    South|\n",
      "|852694|197519|  24|    South|\n",
      "|144102|103839|   6|     West|\n",
      "|687793| 60101|   5|  Midwest|\n",
      "|636308|115639|  26|  Midwest|\n",
      "|218660|126048|  19|Northeast|\n",
      "|465691|193757|  28|Northeast|\n",
      "|242339| 43826|  14|  Midwest|\n",
      "|636949| 84036|   2|  Midwest|\n",
      "|890565|182148|  30|     West|\n",
      "|206270|181592|  26|Northeast|\n",
      "|418390|131922|  23|  Midwest|\n",
      "|359884|184946|   1|  Midwest|\n",
      "|301840|103833|  27|     West|\n",
      "|232212|103292|  10|     West|\n",
      "|450156| 66545|   7|    South|\n",
      "|158031| 41892|   1|  Midwest|\n",
      "+------+------+----+---------+\n",
      "only showing top 20 rows\n",
      "\n"
     ]
    }
   ],
   "source": [
    "summary = df1.select('Emp ID', 'Salary', 'Hike', 'Region')\n",
    "summary.show()"
   ]
  },
  {
   "cell_type": "code",
   "execution_count": 88,
   "metadata": {},
   "outputs": [
    {
     "name": "stdout",
     "output_type": "stream",
     "text": [
      "+-------+------------------+-----------------+-----------------+-------+\n",
      "|summary|            Emp ID|           Salary|             Hike| Region|\n",
      "+-------+------------------+-----------------+-----------------+-------+\n",
      "|  count|           5000000|          5000000|          5000000|5000000|\n",
      "|   mean|    555602.1214034|   119992.4947336|       14.9987616|   null|\n",
      "| stddev|256579.70180242613|46176.82746950901|8.943850740305255|   null|\n",
      "|    min|            111111|            40000|                0|Midwest|\n",
      "|    max|            999999|           200000|               30|   West|\n",
      "+-------+------------------+-----------------+-----------------+-------+\n",
      "\n"
     ]
    }
   ],
   "source": [
    "summary.describe().show()"
   ]
  },
  {
   "cell_type": "code",
   "execution_count": 94,
   "metadata": {},
   "outputs": [
    {
     "name": "stdout",
     "output_type": "stream",
     "text": [
      "Total employees whose salary is greater than average salary\n"
     ]
    },
    {
     "data": {
      "text/plain": [
       "2500407"
      ]
     },
     "execution_count": 94,
     "metadata": {},
     "output_type": "execute_result"
    }
   ],
   "source": [
    "print(\"Total employees whose salary is greater than average salary\")\n",
    "summary.filter(summary['Salary']>119992).count()\n"
   ]
  },
  {
   "cell_type": "code",
   "execution_count": 95,
   "metadata": {},
   "outputs": [
    {
     "name": "stdout",
     "output_type": "stream",
     "text": [
      "Total employees whose got hike above average value\n"
     ]
    },
    {
     "data": {
      "text/plain": [
       "2580138"
      ]
     },
     "execution_count": 95,
     "metadata": {},
     "output_type": "execute_result"
    }
   ],
   "source": [
    "print(\"Total employees whose got hike above average value\")\n",
    "summary.filter(summary['Hike']>14.9987616).count()"
   ]
  },
  {
   "cell_type": "code",
   "execution_count": 96,
   "metadata": {},
   "outputs": [
    {
     "name": "stdout",
     "output_type": "stream",
     "text": [
      "Total employees whose salary is below average salary\n"
     ]
    },
    {
     "data": {
      "text/plain": [
       "2499556"
      ]
     },
     "execution_count": 96,
     "metadata": {},
     "output_type": "execute_result"
    }
   ],
   "source": [
    "print(\"Total employees whose salary is below average salary\")\n",
    "summary.filter(summary['Salary']<119992).count()"
   ]
  },
  {
   "cell_type": "code",
   "execution_count": 97,
   "metadata": {},
   "outputs": [
    {
     "name": "stdout",
     "output_type": "stream",
     "text": [
      "Total employees whose got hike below average value\n"
     ]
    },
    {
     "data": {
      "text/plain": [
       "2419862"
      ]
     },
     "execution_count": 97,
     "metadata": {},
     "output_type": "execute_result"
    }
   ],
   "source": [
    "print(\"Total employees whose got hike below average value\")\n",
    "summary.filter(summary['Hike']<14.9987616).count()"
   ]
  },
  {
   "cell_type": "code",
   "execution_count": 100,
   "metadata": {},
   "outputs": [
    {
     "name": "stdout",
     "output_type": "stream",
     "text": [
      "Total Employees from Midwest:  1372439\n",
      "Total Employees from South:  1855656\n",
      "Total Employees from West:  884921\n",
      "Total Employees from Northeast:  886984\n"
     ]
    }
   ],
   "source": [
    "#Employess from different regions \n",
    "Midwest = summary.filter(summary['Region'] == 'Midwest').count()\n",
    "print(\"Total Employees from Midwest: \", Midwest)\n",
    "\n",
    "South = summary.filter(summary['Region'] == 'South').count()\n",
    "print(\"Total Employees from South: \", South)\n",
    "\n",
    "West = summary.filter(summary['Region'] == 'West').count()\n",
    "print(\"Total Employees from West: \", West)\n",
    "\n",
    "Northeast = summary.filter(summary['Region'] == 'Northeast').count()\n",
    "print(\"Total Employees from Northeast: \", Northeast)"
   ]
  },
  {
   "cell_type": "code",
   "execution_count": null,
   "metadata": {},
   "outputs": [],
   "source": []
  },
  {
   "cell_type": "code",
   "execution_count": 17,
   "metadata": {},
   "outputs": [],
   "source": [
    "# es_write_conf = {\n",
    "#         \"es.nodes\" : \"localhost\",\n",
    "#         \"es.port\" : \"9200\",\n",
    "#         \"es.resource\" : 'employee/emp',\n",
    "#         \"es.input.json\": \"yes\",\n",
    "#         \"es.mapping.id\": \"doc_id\"\n",
    "#     }\n",
    "       \n",
    "# rdd.saveAsNewAPIHadoopFile(\n",
    "#         path='-',\n",
    "#      outputFormatClass=\"org.elasticsearch.hadoop.mr.EsOutputFormat\", keyClass=\"org.apache.hadoop.io.NullWritable\",\n",
    "#         valueClass=\"org.elasticsearch.hadoop.mr.LinkedMapWritable\",\n",
    "#         conf=es_write_conf)\n",
    "\n",
    "\n",
    "\n",
    "\n",
    "# # df1.write.format(\"org.elasticsearch.spark.sql\")\n",
    "# .option(\"es.resource\", \"employee/emp\")\n",
    "# .option(\"es-port\", \"9200\")\n",
    "# .option(\"es.nodes\" : \"localhost\").save()"
   ]
  },
  {
   "cell_type": "code",
   "execution_count": null,
   "metadata": {},
   "outputs": [],
   "source": []
  }
 ],
 "metadata": {
  "kernelspec": {
   "display_name": "Python 3",
   "language": "python",
   "name": "python3"
  },
  "language_info": {
   "codemirror_mode": {
    "name": "ipython",
    "version": 3
   },
   "file_extension": ".py",
   "mimetype": "text/x-python",
   "name": "python",
   "nbconvert_exporter": "python",
   "pygments_lexer": "ipython3",
   "version": "3.6.9"
  }
 },
 "nbformat": 4,
 "nbformat_minor": 4
}
