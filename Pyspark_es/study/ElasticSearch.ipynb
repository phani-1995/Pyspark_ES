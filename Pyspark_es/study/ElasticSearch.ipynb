{
 "cells": [
  {
   "cell_type": "code",
   "execution_count": 1,
   "metadata": {},
   "outputs": [
    {
     "name": "stdout",
     "output_type": "stream",
     "text": [
      "Collecting elasticsearch\n",
      "  Downloading https://files.pythonhosted.org/packages/e4/b7/f8f03019089671486e2910282c1b6fce26ccc8a513322df72ac8994ab2de/elasticsearch-7.9.1-py2.py3-none-any.whl (219kB)\n",
      "\u001b[K    100% |████████████████████████████████| 225kB 497kB/s ta 0:00:01\n",
      "\u001b[?25hCollecting urllib3>=1.21.1 (from elasticsearch)\n",
      "  Using cached https://files.pythonhosted.org/packages/9f/f0/a391d1463ebb1b233795cabfc0ef38d3db4442339de68f847026199e69d7/urllib3-1.25.10-py2.py3-none-any.whl\n",
      "Collecting certifi (from elasticsearch)\n",
      "  Using cached https://files.pythonhosted.org/packages/5e/c4/6c4fe722df5343c33226f0b4e0bb042e4dc13483228b4718baf286f86d87/certifi-2020.6.20-py2.py3-none-any.whl\n",
      "Installing collected packages: urllib3, certifi, elasticsearch\n",
      "Successfully installed certifi-2020.6.20 elasticsearch-7.9.1 urllib3-1.25.10\n"
     ]
    }
   ],
   "source": [
    "!pip3 install elasticsearch"
   ]
  },
  {
   "cell_type": "code",
   "execution_count": 2,
   "metadata": {},
   "outputs": [],
   "source": [
    "from elasticsearch import Elasticsearch\n",
    "es = Elasticsearch([{'host': 'localhost', 'port': 9200}])"
   ]
  },
  {
   "cell_type": "code",
   "execution_count": 14,
   "metadata": {},
   "outputs": [],
   "source": [
    "try:\n",
    "    res = es.search(index=\"emp11\",\n",
    "                   body={\"from\": 0, \"size\": 1000, \"query\": {\"match_all\": {}}})\n",
    "    print(res)\n",
    "except:\n",
    "    print(\"Syntax error\")"
   ]
  },
  {
   "cell_type": "code",
   "execution_count": 82,
   "metadata": {},
   "outputs": [],
   "source": [
    "#es.search(index = \"emp11\", body = {\"size\": 0, \"aggs\": {\"avg\": {\"field\": \"Salary\"}}})"
   ]
  },
  {
   "cell_type": "code",
   "execution_count": 5,
   "metadata": {},
   "outputs": [],
   "source": [
    "try:\n",
    "    es.search(index = \"emp11\", body = {\"_source\": [\"Salary\"],\"size\": 0, \"query\": {{\"aggs\": \n",
    "                                                         {\"avg_salary\": {\"avg\": { \"field\": \"Salary\"}}}}}})\n",
    "except:\n",
    "    print(\"Wrong Syntax\")"
   ]
  },
  {
   "cell_type": "code",
   "execution_count": null,
   "metadata": {},
   "outputs": [],
   "source": [
    "\n"
   ]
  },
  {
   "cell_type": "code",
   "execution_count": 15,
   "metadata": {},
   "outputs": [],
   "source": [
    "try:\n",
    "    res1 = es.search(index=\"emp11\", body={\"_source\": [\"Salary\"], \n",
    "                                         \"query\": {\"range\": \n",
    "                                                   {\"Salary\": \n",
    "                                                    {\"gt\": 119992}}}})\n",
    "    print(res1)\n",
    "except:\n",
    "    print(\"No documents found\")"
   ]
  },
  {
   "cell_type": "code",
   "execution_count": 16,
   "metadata": {},
   "outputs": [],
   "source": [
    "try:\n",
    "    res2 = es.search(index=\"emp11\", body={\"_source\": [\"Salary\"], \n",
    "                                         \"query\": {\"range\": \n",
    "                                                   {\"Salary\": \n",
    "                                                    {\"lt\": 119992}}}})\n",
    "    print(res2)\n",
    "except:\n",
    "    print(\"No documents found\")\n",
    "    "
   ]
  },
  {
   "cell_type": "code",
   "execution_count": 17,
   "metadata": {},
   "outputs": [],
   "source": [
    "# es.search(index='emp11', body={\"_source\": [\"Salary\", \"Region\"],\n",
    "#                               \"query\":{\"bool\":{\"must\":[{\"terms\":{\"Region\":[\"Midwest\", \"South\"]}}],\n",
    "#                                           \"should\":[{\"range\":{\"Salary\":{\"gte\":119992, \"lte\":40000}}}]\n",
    "#                                               }}})\n",
    "es.search(index=\"emp11\", body={\"query\": {\"range\": {\"Salary\": {\"gt\": 119992}}}})"
   ]
  },
  {
   "cell_type": "code",
   "execution_count": 47,
   "metadata": {},
   "outputs": [],
   "source": [
    "# es.count(index='emp11', body={\"query\":{\"term\":{\"Region\":\"Midwest\"}}})"
   ]
  },
  {
   "cell_type": "code",
   "execution_count": 18,
   "metadata": {},
   "outputs": [],
   "source": [
    "#Total Number of Male employees \n",
    "try:\n",
    "    res = es.count(index = \"emp11\",body = {\n",
    "                    \"query\": { \n",
    "                        \"bool\": { \n",
    "                            \"must\": [\n",
    "                                { \"match\": { 'Gender': 'M' }}\n",
    "                          ],\n",
    "                        }\n",
    "                      }\n",
    "                    })\n",
    "    print(res)\n",
    "except:\n",
    "    print(\"No records found\")"
   ]
  },
  {
   "cell_type": "code",
   "execution_count": 19,
   "metadata": {},
   "outputs": [],
   "source": [
    "#Total number of Female employees \n",
    "try:\n",
    "    res = es.count(index = \"emp11\",body = {\n",
    "                \"query\": { \n",
    "                    \"bool\": { \n",
    "                        \"must\": [\n",
    "                            { \"match\": { 'Gender': 'F' }}\n",
    "                      ],\n",
    "                    }\n",
    "                  }\n",
    "                })\n",
    "    print(res)\n",
    "    \n",
    "except:\n",
    "    print(\"No documents found\")"
   ]
  },
  {
   "cell_type": "code",
   "execution_count": 55,
   "metadata": {},
   "outputs": [],
   "source": []
  },
  {
   "cell_type": "code",
   "execution_count": 20,
   "metadata": {},
   "outputs": [],
   "source": [
    "#Male employees whose slalary is greater than avg salary\n",
    "es.search(index=\"emp11\", body={\n",
    "            \"query\":{\n",
    "                \"bool\": {\n",
    "                    \"must\": [\n",
    "                        {\"match\": { \"Gender\": \"M\"}}\n",
    "                    ],\n",
    "                    \"filter\": [\n",
    "                        { \"range\": { \"Salary\": { \"gte\": 119992}}}\n",
    "                    ]\n",
    "                }\n",
    "            }\n",
    "        })"
   ]
  },
  {
   "cell_type": "code",
   "execution_count": 21,
   "metadata": {},
   "outputs": [],
   "source": [
    "#Female employees whose salalry is greater than avg salary\n",
    "es.search(index=\"emp11\", body={\n",
    "            \"query\":{\n",
    "                \"bool\": {\n",
    "                    \"must\": [\n",
    "                        {\"match\": { \"Gender\": \"F\"}}\n",
    "                    ],\n",
    "                    \"filter\": [\n",
    "                        { \"range\": { \"Salary\": { \"gte\": 119992}}}\n",
    "                    ]\n",
    "                }\n",
    "            }\n",
    "        })"
   ]
  },
  {
   "cell_type": "code",
   "execution_count": 22,
   "metadata": {},
   "outputs": [],
   "source": [
    "#Count of male employees whose salary is greater than average salary\n",
    "es.count(index=\"emp11\", body={\n",
    "            \"query\":{\n",
    "                \"bool\": {\n",
    "                    \"must\": [\n",
    "                        {\"match\": { \"Gender\": \"M\"}}\n",
    "                    ],\n",
    "                    \"filter\": [\n",
    "                        { \"range\": { \"Salary\": { \"gte\": 119992}}}\n",
    "                    ]\n",
    "                }\n",
    "            }\n",
    "        })"
   ]
  },
  {
   "cell_type": "code",
   "execution_count": 23,
   "metadata": {},
   "outputs": [],
   "source": [
    "#Count of female employees whose salary is greater than average salary\n",
    "es.count(index=\"emp11\", body={\n",
    "            \"query\":{\n",
    "                \"bool\": {\n",
    "                    \"must\": [\n",
    "                        {\"match\": { \"Gender\": \"F\"}}\n",
    "                    ],\n",
    "                    \"filter\": [\n",
    "                        { \"range\": { \"Salary\": { \"gt\": 119992}}}\n",
    "                    ]\n",
    "                }\n",
    "            }\n",
    "        })"
   ]
  },
  {
   "cell_type": "code",
   "execution_count": 84,
   "metadata": {},
   "outputs": [],
   "source": [
    "# es.search(index= \"emp11\",body= { \"query\": { \"match_phrase\": { \"Gender\": \"M\" }},\n",
    "#                                 \"aggs\": { \"avg_salary\": { \"avg\": { \"field\": \"Salary\"}}}})"
   ]
  },
  {
   "cell_type": "code",
   "execution_count": 81,
   "metadata": {},
   "outputs": [],
   "source": [
    "#es.search(index= \"emp11\", body= {\"aggs\": {\"avg_salary\": {\"avg\": {\"field\": \"Salary\"}}}})"
   ]
  },
  {
   "cell_type": "code",
   "execution_count": 88,
   "metadata": {},
   "outputs": [],
   "source": [
    "\n",
    "#es.count(index = \"emp11\", body={ \"aggs\": {\"count\": { \"value_count\": {\"script\": {\"source\": [\"County\"]}}}}})"
   ]
  },
  {
   "cell_type": "code",
   "execution_count": 96,
   "metadata": {},
   "outputs": [],
   "source": [
    "es.search(index=\"emp11\", body={\"size\":0, \"aggregations\":{\"Employee\": {\"terms\": {\"field\": \"Emp ID\"},\n",
    "                                                        \"aggregations\":{\"Country\":{\"terms\":{\"field\":\"City\"}}}}}})\n",
    "\n"
   ]
  },
  {
   "cell_type": "code",
   "execution_count": 114,
   "metadata": {},
   "outputs": [],
   "source": [
    "#es.search(index = \"emp11\", body= {\"aggs\": {\"distinct\": {\"terms\": {\"field\": \"County\"}}}})"
   ]
  },
  {
   "cell_type": "code",
   "execution_count": 13,
   "metadata": {},
   "outputs": [],
   "source": [
    "#es.search(index=\"emp11\", body = {\"properties\": {\"County\": {\"fielddata\": \"true\"}}})"
   ]
  },
  {
   "cell_type": "code",
   "execution_count": null,
   "metadata": {},
   "outputs": [],
   "source": []
  },
  {
   "cell_type": "code",
   "execution_count": 109,
   "metadata": {},
   "outputs": [],
   "source": [
    "# from elasticsearch import Elasticsearch\n",
    "# client = Elasticsearch()\n",
    "# response = client.search(\n",
    "#     index=\"emp11\",\n",
    "#     body={\n",
    "#       \"aggs\" : {\n",
    "#         \"Country\": {\n",
    "#           \"terms\": {\"field\": \"County\"},\n",
    "#         }\n",
    "#       }\n",
    "#     }\n",
    "# )"
   ]
  },
  {
   "cell_type": "code",
   "execution_count": null,
   "metadata": {},
   "outputs": [],
   "source": []
  },
  {
   "cell_type": "code",
   "execution_count": null,
   "metadata": {},
   "outputs": [],
   "source": []
  },
  {
   "cell_type": "code",
   "execution_count": null,
   "metadata": {},
   "outputs": [],
   "source": []
  },
  {
   "cell_type": "code",
   "execution_count": null,
   "metadata": {},
   "outputs": [],
   "source": []
  }
 ],
 "metadata": {
  "kernelspec": {
   "display_name": "Python 3",
   "language": "python",
   "name": "python3"
  },
  "language_info": {
   "codemirror_mode": {
    "name": "ipython",
    "version": 3
   },
   "file_extension": ".py",
   "mimetype": "text/x-python",
   "name": "python",
   "nbconvert_exporter": "python",
   "pygments_lexer": "ipython3",
   "version": "3.6.9"
  }
 },
 "nbformat": 4,
 "nbformat_minor": 4
}
