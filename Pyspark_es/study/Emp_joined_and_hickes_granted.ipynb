{
 "cells": [
  {
   "cell_type": "code",
   "execution_count": 2,
   "metadata": {},
   "outputs": [
    {
     "name": "stdout",
     "output_type": "stream",
     "text": [
      "+------+-----------+----------+--------------+---------+------+--------------------+----------------+------------------+--------------------+-------------+-------------+-----------+--------------+---------------+------------------+---------------+---------------+----------------+---------------------+-----------+--------------+--------------+---------+----------------------+------+-----------+-----------+------------+-------------+--------------------+-------------+-----+-----+---------+-----------+---------------+\n",
      "|Emp ID|Name Prefix|First Name|Middle Initial|Last Name|Gender|              E Mail|   Father's Name|     Mother's Name|Mother's Maiden Name|Date of Birth|Time of Birth|Age in Yrs.|Weight in Kgs.|Date of Joining|Quarter of Joining|Half of Joining|Year of Joining|Month of Joining|Month Name of Joining|Short Month|Day of Joining|DOW of Joining|Short DOW|Age in Company (Years)|Salary|Last % Hike|        SSN|  Phone No. |   Place Name|              County|         City|State|  Zip|   Region|  User Name|       Password|\n",
      "+------+-----------+----------+--------------+---------+------+--------------------+----------------+------------------+--------------------+-------------+-------------+-----------+--------------+---------------+------------------+---------------+---------------+----------------+---------------------+-----------+--------------+--------------+---------+----------------------+------+-----------+-----------+------------+-------------+--------------------+-------------+-----+-----+---------+-----------+---------------+\n",
      "|742048|       Drs.|    Lizeth|             P|   Mccoll|     F|lizeth.mccoll@ibm...|   Renato Mccoll|     Serena Mccoll|             Broxton|     7/5/1973|  08:14:43 AM|      47.19|            49|       1/7/1995|                Q1|             H1|           1995|               1|              January|        Jan|             7|      Saturday|      Sat|                 25.67|147446|        14%|171-86-6830|216-703-2865|     Alliance|               Stark|     Alliance|   OH|44601|  Midwest|   lpmccoll|     b5CDsd1Mz.|\n",
      "|671135|        Ms.| Argentina|             O|     Hern|     F|argentina.hern@nt...|       Earl Hern|      Chrissy Hern|              Tapley|   10/15/1962|  02:08:22 AM|      57.92|            53|       4/1/1986|                Q2|             H1|           1986|               4|                April|        Apr|             1|       Tuesday|      Tue|                 34.44|129174|         8%|083-02-3078|202-572-0136|   Washington|District of Columbia|   Washington|   DC|20411|    South|     aohern| vsUv&nFc?lM|2-|\n",
      "|965851|        Mr.|    Damian|             N|  Patillo|     M|damian.patillo@ou...|  Harley Patillo|   Lucinda Patillo|               Etter|    3/11/1975|  07:48:45 PM|      45.51|            84|     12/16/2004|                Q4|             H2|           2004|              12|             December|        Dec|            16|      Thursday|      Thu|                 15.72|158746|         8%|326-11-9852|209-784-3915|       Burrel|              Fresno|       Burrel|   CA|93607|     West|  dnpatillo|   GQj^c:4#B:F8|\n",
      "|224660|       Drs.|   Imogene|             P| Hagopian|     F|imogene.hagopian@...| Delmar Hagopian| Carolina Hagopian|             Lockett|    2/19/1995|  03:15:09 PM|      25.55|            52|       6/8/2017|                Q2|             H1|           2017|               6|                 June|        Jun|             8|      Thursday|      Thu|                  3.23| 55761|        14%|656-36-0772|210-460-6327|        Bryan|              Brazos|        Bryan|   TX|77806|    South| iphagopian|     d[aHK7aiH&|\n",
      "|852694|        Mr.|    Walker|             E|  Wallach|     M|walker.wallach@ao...|    Gale Wallach|Georgianna Wallach|           Creekmore|     8/5/1992|  01:03:46 PM|      28.09|            50|      2/28/2020|                Q1|             H1|           2020|               2|             February|        Feb|            28|        Friday|      Fri|                  0.51|197519|        24%|296-15-3535|225-846-1969|     Newllano|              Vernon|     Newllano|   LA|71461|    South|  wewallach|       kM\\7h*}7|\n",
      "|144102|        Ms.|  Jesusita|             W|   Hollie|     F|jesusita.hollie@h...|  Clement Hollie|      Nilda Hollie|              Barone|   10/30/1987|  04:55:43 AM|      32.86|            49|       3/5/2015|                Q1|             H1|           2015|               3|                March|        Mar|             5|      Thursday|      Thu|                   5.5|103839|         6%|375-37-3861|209-219-5562|      Topanga|         Los Angeles|      Topanga|   CA|90290|     West|   jwhollie|       p1-G0\\b~|\n",
      "|687793|        Mr.|    Fausto|             P|  Esqueda|     M|fausto.esqueda@ao...|  Randal Esqueda|      Yang Esqueda|             Cullens|    4/23/1971|  10:25:52 AM|      49.39|            75|     10/29/1998|                Q4|             H2|           1998|              10|              October|        Oct|            29|      Thursday|      Thu|                 21.85| 60101|         5%|095-02-0857|216-722-2112|    Somerdale|          Tuscarawas|    Somerdale|   OH|44678|  Midwest|  fpesqueda| lX!iJCJF@[f-/F|\n",
      "|636308|       Mrs.|     Vanda|             S|    Komar|     F| vanda.komar@aol.com|     Carlo Komar|       Katia Komar|            Almanzar|     9/2/1962|  02:52:40 AM|      58.04|            52|      7/25/2018|                Q3|             H2|           2018|               7|                 July|        Jul|            25|     Wednesday|      Wed|                   2.1|115639|        26%|002-11-5408|216-224-9563|        Akron|              Summit|        Akron|   OH|44312|  Midwest|    vskomar|I0!gVO~XFHG0\\9q|\n",
      "|218660|       Mrs.|   Destiny|             A|Nicholson|     F|destiny.nicholson...| Ramon Nicholson|  Tanika Nicholson|             Schauer|     7/1/1995|  01:58:42 PM|      25.19|            54|     11/22/2016|                Q4|             H2|           2016|              11|             November|        Nov|            22|       Tuesday|      Tue|                  3.78|126048|        19%|386-37-5628|201-997-3957|Atlantic City|            Atlantic|Atlantic City|   NJ| 8401|Northeast|danicholson|       s|?t/%X+|\n",
      "|465691|        Ms.|      Evie|             V|    Hamby|     F|evie.hamby@gmail.com|     Devin Hamby|      Jerica Hamby|                Plum|    6/22/1980|  12:17:42 AM|      40.22|            60|      10/4/2013|                Q4|             H2|           2013|              10|              October|        Oct|             4|        Friday|      Fri|                  6.91|193757|        28%|682-24-5946|201-331-7085|     Rockaway|              Morris|     Rockaway|   NJ| 7866|Northeast|    evhamby|       Xv7!P;xf|\n",
      "|242339|        Dr.|   Carlton|             G|Friedrich|     M|carlton.friedrich...| Tommy Friedrich|   Ricki Friedrich|                Camp|    10/7/1993|  12:05:46 AM|      26.92|            64|      10/5/2016|                Q4|             H2|           2016|              10|              October|        Oct|             5|     Wednesday|      Wed|                  3.91| 43826|        14%|717-18-8892|216-458-6650|   Cincinnati|            Hamilton|   Cincinnati|   OH|45202|  Midwest|cgfriedrich|     ROEj:i88Ov|\n",
      "|636949|        Mr.|   Carmelo|             A|   Haynie|     M|carmelo.haynie@gm...|    Mason Haynie|     Dorian Haynie|            Blessing|    3/19/1988|  01:02:33 PM|      32.47|            83|      3/10/2015|                Q1|             H1|           2015|               3|                March|        Mar|            10|       Tuesday|      Tue|                  5.48| 84036|         2%|529-99-1135|231-719-8915|       Howell|          Livingston|       Howell|   MI|48844|  Midwest|   cahaynie|     R^[haXId3H|\n",
      "|890565|        Ms.|      Bari|             K|   Troche|     F|bari.troche@hotma...|   Wilson Troche|    Madison Troche|              Imhoff|    6/12/1961|  12:10:42 PM|      59.26|            40|       6/6/2006|                Q2|             H1|           2006|               6|                 June|        Jun|             6|       Tuesday|      Tue|                 14.25|182148|        30%|479-41-7839|505-741-3868| Cochiti Lake|            Sandoval| Cochiti Lake|   NM|87083|     West|   bktroche|F}BQulqy[P@<Y8q|\n",
      "|206270|        Mr.|    Burton|             B|    Lowry|     M|burton.lowry@comc...|      Oren Lowry|      Fredda Lowry|             Goodwyn|    9/18/1987|  10:33:51 PM|      32.98|            50|     10/29/2011|                Q4|             H2|           2011|              10|              October|        Oct|            29|      Saturday|      Sat|                  8.85|181592|        26%|618-87-1917|215-747-2870|    Palmerton|              Carbon|    Palmerton|   PA|18071|Northeast|    bblowry|  k;B:j!?CkWb**|\n",
      "|418390|      Prof.|    Mickey|             Z|  Bassham|     M|mickey.bassham@gm...|    Deon Bassham|       Lan Bassham|             Buttler|    9/29/1997|  11:32:24 AM|      22.94|            57|     12/19/2019|                Q4|             H2|           2019|              12|             December|        Dec|            19|      Thursday|      Thu|                   0.7|131922|        23%|186-86-7205|231-987-8818|   Lake Orion|             Oakland|   Lake Orion|   MI|48362|  Midwest|  mzbassham|BVT4u}~8f{;xl15|\n",
      "|359884|        Ms.|      Ying|             Y|  Cerrone|     F|ying.cerrone@aol.com|Benedict Cerrone|   Jeanett Cerrone|                Line|    3/19/1980|  08:03:52 AM|      40.48|            53|      5/17/2012|                Q2|             H1|           2012|               5|                  May|        May|            17|      Thursday|      Thu|                   8.3|184946|         1%|083-02-7174|218-498-8798|         Iona|              Murray|         Iona|   MN|56141|  Midwest|  yycerrone|       Lx8ii-9U|\n",
      "|301840|       Mrs.|     Bette|             O|    Copas|     F|bette.copas@sbcgl...|    Rupert Copas|       Bette Copas|              Gerner|   11/12/1962|  07:20:25 AM|      57.84|            55|      2/26/2000|                Q1|             H1|           2000|               2|             February|        Feb|            26|      Saturday|      Sat|                 20.53|103833|        27%|124-98-3183|307-986-9240|    Hillsdale|             Laramie|    Hillsdale|   WY|82060|     West|    bocopas|   Fz-z~VtH9dfo|\n",
      "|232212|       Mrs.|      Tien|             W|   Harkey|     F| tien.harkey@cox.net|    Robin Harkey|   Carlotta Harkey|                Blas|     9/4/1998|  12:31:09 AM|      22.01|            52|      5/26/2020|                Q2|             H1|           2020|               5|                  May|        May|            26|       Tuesday|      Tue|                  0.27|103292|        10%|615-87-8886|209-433-3579|       Fresno|              Fresno|       Fresno|   CA|93782|     West|   twharkey| c/jI.a^K|[$}o#|\n",
      "|450156|        Ms.|      Loma|             S|  Chesney|     F|loma.chesney@yaho...|    Bret Chesney|     Viola Chesney|            Barnhill|    5/25/1963|  05:20:17 PM|      57.31|            50|     11/14/1989|                Q4|             H2|           1989|              11|             November|        Nov|            14|       Tuesday|      Tue|                 30.82| 66545|         7%|161-86-9824|205-930-2406|       Mobile|              Mobile|       Mobile|   AL|36602|    South|  lschesney|8U+<JTEXx&Q]R\\S|\n",
      "|158031|        Mr.|     Ruben|             K|   Pastor|     M|ruben.pastor@gmai...|Filiberto Pastor|       Dona Pastor|             Audette|   11/16/1993|  03:28:49 PM|      26.81|            83|     11/20/2016|                Q4|             H2|           2016|              11|             November|        Nov|            20|        Sunday|      Sun|                  3.78| 41892|         1%|768-02-9782|262-438-6125|    Cedarburg|             Ozaukee|    Cedarburg|   WI|53012|  Midwest|   rkpastor|      rk6{Wd|t%|\n",
      "+------+-----------+----------+--------------+---------+------+--------------------+----------------+------------------+--------------------+-------------+-------------+-----------+--------------+---------------+------------------+---------------+---------------+----------------+---------------------+-----------+--------------+--------------+---------+----------------------+------+-----------+-----------+------------+-------------+--------------------+-------------+-----+-----+---------+-----------+---------------+\n",
      "only showing top 20 rows\n",
      "\n",
      "None\n"
     ]
    }
   ],
   "source": [
    "from pyspark.sql import SparkSession\n",
    "from pyspark.sql.functions import *\n",
    "spark = SparkSession \\\n",
    "    .builder \\\n",
    "    .getOrCreate()\n",
    "sc = spark.sparkContext\n",
    "df = spark.read.csv(\"/home/phani/Elasticsearch_spark/employee.csv\", header=True)\n",
    "df = df.fillna(0)\n",
    "print(df.show())\n"
   ]
  },
  {
   "cell_type": "code",
   "execution_count": 3,
   "metadata": {},
   "outputs": [
    {
     "name": "stdout",
     "output_type": "stream",
     "text": [
      "root\n",
      " |-- Emp ID: string (nullable = true)\n",
      " |-- Name Prefix: string (nullable = true)\n",
      " |-- First Name: string (nullable = true)\n",
      " |-- Middle Initial: string (nullable = true)\n",
      " |-- Last Name: string (nullable = true)\n",
      " |-- Gender: string (nullable = true)\n",
      " |-- E Mail: string (nullable = true)\n",
      " |-- Father's Name: string (nullable = true)\n",
      " |-- Mother's Name: string (nullable = true)\n",
      " |-- Mother's Maiden Name: string (nullable = true)\n",
      " |-- Date of Birth: string (nullable = true)\n",
      " |-- Time of Birth: string (nullable = true)\n",
      " |-- Age in Yrs.: string (nullable = true)\n",
      " |-- Weight in Kgs.: string (nullable = true)\n",
      " |-- Date of Joining: string (nullable = true)\n",
      " |-- Quarter of Joining: string (nullable = true)\n",
      " |-- Half of Joining: string (nullable = true)\n",
      " |-- Year of Joining: string (nullable = true)\n",
      " |-- Month of Joining: string (nullable = true)\n",
      " |-- Month Name of Joining: string (nullable = true)\n",
      " |-- Short Month: string (nullable = true)\n",
      " |-- Day of Joining: string (nullable = true)\n",
      " |-- DOW of Joining: string (nullable = true)\n",
      " |-- Short DOW: string (nullable = true)\n",
      " |-- Age in Company (Years): string (nullable = true)\n",
      " |-- Salary: string (nullable = true)\n",
      " |-- Last % Hike: string (nullable = true)\n",
      " |-- SSN: string (nullable = true)\n",
      " |-- Phone No. : string (nullable = true)\n",
      " |-- Place Name: string (nullable = true)\n",
      " |-- County: string (nullable = true)\n",
      " |-- City: string (nullable = true)\n",
      " |-- State: string (nullable = true)\n",
      " |-- Zip: string (nullable = true)\n",
      " |-- Region: string (nullable = true)\n",
      " |-- User Name: string (nullable = true)\n",
      " |-- Password: string (nullable = true)\n",
      "\n",
      "None\n"
     ]
    }
   ],
   "source": [
    "print(df.printSchema())"
   ]
  },
  {
   "cell_type": "code",
   "execution_count": 4,
   "metadata": {},
   "outputs": [
    {
     "name": "stdout",
     "output_type": "stream",
     "text": [
      "+------+----------+--------------+------+--------------------+-----------+------+--------------------+-------------+-----+---------+----+\n",
      "|Emp ID|First Name|Middle Initial|Gender|              E Mail|Short Month|Salary|              County|         City|State|   Region|Hike|\n",
      "+------+----------+--------------+------+--------------------+-----------+------+--------------------+-------------+-----+---------+----+\n",
      "|742048|    Lizeth|             P|     F|lizeth.mccoll@ibm...|        Jan|147446|               Stark|     Alliance|   OH|  Midwest|  14|\n",
      "|671135| Argentina|             O|     F|argentina.hern@nt...|        Apr|129174|District of Columbia|   Washington|   DC|    South|   8|\n",
      "|965851|    Damian|             N|     M|damian.patillo@ou...|        Dec|158746|              Fresno|       Burrel|   CA|     West|   8|\n",
      "|224660|   Imogene|             P|     F|imogene.hagopian@...|        Jun| 55761|              Brazos|        Bryan|   TX|    South|  14|\n",
      "|852694|    Walker|             E|     M|walker.wallach@ao...|        Feb|197519|              Vernon|     Newllano|   LA|    South|  24|\n",
      "|144102|  Jesusita|             W|     F|jesusita.hollie@h...|        Mar|103839|         Los Angeles|      Topanga|   CA|     West|   6|\n",
      "|687793|    Fausto|             P|     M|fausto.esqueda@ao...|        Oct| 60101|          Tuscarawas|    Somerdale|   OH|  Midwest|   5|\n",
      "|636308|     Vanda|             S|     F| vanda.komar@aol.com|        Jul|115639|              Summit|        Akron|   OH|  Midwest|  26|\n",
      "|218660|   Destiny|             A|     F|destiny.nicholson...|        Nov|126048|            Atlantic|Atlantic City|   NJ|Northeast|  19|\n",
      "|465691|      Evie|             V|     F|evie.hamby@gmail.com|        Oct|193757|              Morris|     Rockaway|   NJ|Northeast|  28|\n",
      "|242339|   Carlton|             G|     M|carlton.friedrich...|        Oct| 43826|            Hamilton|   Cincinnati|   OH|  Midwest|  14|\n",
      "|636949|   Carmelo|             A|     M|carmelo.haynie@gm...|        Mar| 84036|          Livingston|       Howell|   MI|  Midwest|   2|\n",
      "|890565|      Bari|             K|     F|bari.troche@hotma...|        Jun|182148|            Sandoval| Cochiti Lake|   NM|     West|  30|\n",
      "|206270|    Burton|             B|     M|burton.lowry@comc...|        Oct|181592|              Carbon|    Palmerton|   PA|Northeast|  26|\n",
      "|418390|    Mickey|             Z|     M|mickey.bassham@gm...|        Dec|131922|             Oakland|   Lake Orion|   MI|  Midwest|  23|\n",
      "|359884|      Ying|             Y|     F|ying.cerrone@aol.com|        May|184946|              Murray|         Iona|   MN|  Midwest|   1|\n",
      "|301840|     Bette|             O|     F|bette.copas@sbcgl...|        Feb|103833|             Laramie|    Hillsdale|   WY|     West|  27|\n",
      "|232212|      Tien|             W|     F| tien.harkey@cox.net|        May|103292|              Fresno|       Fresno|   CA|     West|  10|\n",
      "|450156|      Loma|             S|     F|loma.chesney@yaho...|        Nov| 66545|              Mobile|       Mobile|   AL|    South|   7|\n",
      "|158031|     Ruben|             K|     M|ruben.pastor@gmai...|        Nov| 41892|             Ozaukee|    Cedarburg|   WI|  Midwest|   1|\n",
      "+------+----------+--------------+------+--------------------+-----------+------+--------------------+-------------+-----+---------+----+\n",
      "only showing top 20 rows\n",
      "\n"
     ]
    }
   ],
   "source": [
    "df1 = df.select('Emp ID', 'First Name', 'Middle Initial', 'Gender', 'E Mail', 'Short Month', 'Salary', 'County', 'City', 'State', 'Region', regexp_replace(col(\"Last % Hike\"), \"%\", \"\").alias(\"Hike\"))\n",
    "df1.show()"
   ]
  },
  {
   "cell_type": "markdown",
   "metadata": {},
   "source": [
    "# Summarise the number of emp joined and hickes granted based on month"
   ]
  },
  {
   "cell_type": "code",
   "execution_count": 7,
   "metadata": {},
   "outputs": [
    {
     "name": "stdout",
     "output_type": "stream",
     "text": [
      "Total Number of Employees joined based on months\n",
      "+-----------+------+\n",
      "|Short Month| count|\n",
      "+-----------+------+\n",
      "|        Oct|400048|\n",
      "|        Sep|384646|\n",
      "|        Dec|408721|\n",
      "|        Aug|468295|\n",
      "|        May|434522|\n",
      "|        Jun|427424|\n",
      "|        Feb|382263|\n",
      "|        Nov|392382|\n",
      "|        Mar|422987|\n",
      "|        Jan|413247|\n",
      "|        Apr|414484|\n",
      "|        Jul|450981|\n",
      "+-----------+------+\n",
      "\n"
     ]
    }
   ],
   "source": [
    "print(\"Total Number of Employees joined based on months\")\n",
    "df1.groupBy('Short Month').count().show()"
   ]
  },
  {
   "cell_type": "markdown",
   "metadata": {},
   "source": [
    "## Hikes granted based on Months"
   ]
  },
  {
   "cell_type": "code",
   "execution_count": 13,
   "metadata": {},
   "outputs": [
    {
     "name": "stdout",
     "output_type": "stream",
     "text": [
      "+-----------+------+---------+\n",
      "|Short Month| Hikes|Employees|\n",
      "+-----------+------+---------+\n",
      "|        Oct|400048|   400048|\n",
      "|        Sep|384646|   384646|\n",
      "|        Dec|408721|   408721|\n",
      "|        Aug|468295|   468295|\n",
      "|        May|434522|   434522|\n",
      "|        Jun|427424|   427424|\n",
      "|        Feb|382263|   382263|\n",
      "|        Nov|392382|   392382|\n",
      "|        Mar|422987|   422987|\n",
      "|        Jan|413247|   413247|\n",
      "|        Apr|414484|   414484|\n",
      "|        Jul|450981|   450981|\n",
      "+-----------+------+---------+\n",
      "\n"
     ]
    }
   ],
   "source": [
    "df1.groupBy(\"Short Month\") \\\n",
    "    .agg(count(\"Hike\").alias(\"Hikes\"), \\\n",
    "        count(\"Emp ID\").alias(\"Employees\")).show()"
   ]
  },
  {
   "cell_type": "code",
   "execution_count": 14,
   "metadata": {},
   "outputs": [
    {
     "name": "stdout",
     "output_type": "stream",
     "text": [
      "+-----------+---------+------------------+--------+--------+\n",
      "|Short Month|sum_Hike |avg_Hike          |min_Hike|max_Hike|\n",
      "+-----------+---------+------------------+--------+--------+\n",
      "|Oct        |6005079.0|15.010896192456904|0       |9       |\n",
      "|Sep        |5767464.0|14.994212860656292|0       |9       |\n",
      "|Dec        |6131478.0|15.001622133435767|0       |9       |\n",
      "|Aug        |7030207.0|15.012346918075146|0       |9       |\n",
      "|May        |6509808.0|14.981538334077445|0       |9       |\n",
      "|Jun        |6410015.0|14.996853241745901|0       |9       |\n",
      "|Feb        |5734304.0|15.000939143992486|0       |9       |\n",
      "|Nov        |5873249.0|14.968191711138635|0       |9       |\n",
      "|Mar        |6353930.0|15.021572767011753|0       |9       |\n",
      "|Jan        |6191321.0|14.982131751712656|0       |9       |\n",
      "|Apr        |6218791.0|15.003693749336524|0       |9       |\n",
      "|Jul        |6768162.0|15.007643337524197|0       |9       |\n",
      "+-----------+---------+------------------+--------+--------+\n",
      "\n"
     ]
    }
   ],
   "source": [
    "df1.groupBy(\"Short Month\") \\\n",
    "    .agg(sum(\"Hike\").alias(\"sum_Hike\"), \\\n",
    "         avg(\"Hike\").alias(\"avg_Hike\"), \\\n",
    "         min(\"Hike\").alias(\"min_Hike\"), \\\n",
    "         max(\"Hike\").alias(\"max_Hike\") \\\n",
    "     ) \\\n",
    "    .show(truncate=False)\n"
   ]
  },
  {
   "cell_type": "code",
   "execution_count": null,
   "metadata": {},
   "outputs": [],
   "source": []
  }
 ],
 "metadata": {
  "kernelspec": {
   "display_name": "Python 3",
   "language": "python",
   "name": "python3"
  },
  "language_info": {
   "codemirror_mode": {
    "name": "ipython",
    "version": 3
   },
   "file_extension": ".py",
   "mimetype": "text/x-python",
   "name": "python",
   "nbconvert_exporter": "python",
   "pygments_lexer": "ipython3",
   "version": "3.6.9"
  }
 },
 "nbformat": 4,
 "nbformat_minor": 4
}
